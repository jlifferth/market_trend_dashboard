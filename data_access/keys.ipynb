{
 "cells": [
  {
   "cell_type": "code",
   "execution_count": null,
   "id": "a266e710",
   "metadata": {},
   "outputs": [],
   "source": [
    "consumer_key = '419OP9WtAAlu5e9ueZlV1HtLD'\n",
    "consumer_secret = 'oQnApYVTkj550cHxGsmwjkWZa4PXsTxnSQilmjMrg8WVIF3oD9'\n",
    "access_token = '3152278441-JqVOzfO0lrag414yTTCYqbLRDT1uPdXxc2cx1ku'\n",
    "access_token_secret = 'podzvX9WM1SC9kDhtS037JPZ5zOCWcRxpfA5NckbN8DCl'"
   ]
  }
 ],
 "metadata": {
  "kernelspec": {
   "display_name": "Python 3 (ipykernel)",
   "language": "python",
   "name": "python3"
  },
  "language_info": {
   "codemirror_mode": {
    "name": "ipython",
    "version": 3
   },
   "file_extension": ".py",
   "mimetype": "text/x-python",
   "name": "python",
   "nbconvert_exporter": "python",
   "pygments_lexer": "ipython3",
   "version": "3.8.8"
  }
 },
 "nbformat": 4,
 "nbformat_minor": 5
}

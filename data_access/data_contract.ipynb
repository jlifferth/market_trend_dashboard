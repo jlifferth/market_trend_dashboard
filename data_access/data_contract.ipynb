{
 "cells": [
  {
   "cell_type": "markdown",
   "id": "d179c0c2",
   "metadata": {},
   "source": [
    "# what is the JSON object that I want to receive?\n",
    "\n",
    "* let's stick with the time periods provided by yfinance instead of specify start and end dates, this way there are just fewer potential things that can break. But if anybody has strong feelings, we could specify start and end dates."
   ]
  },
  {
   "cell_type": "code",
   "execution_count": null,
   "id": "057732a5",
   "metadata": {},
   "outputs": [],
   "source": [
    "\n",
    "\n",
    "# use \"period\" instead of start/end\n",
    "        # valid periods: 1d,5d,1mo,3mo,6mo,1y,2y,5y,10y,ytd,max\n",
    "        # (optional, default is '1mo')\n",
    "\n",
    "# fetch data by interval (including intraday if period < 60 days--\n",
    "        # meaning, if we want a period greater than 60 days, the smallest interval available is 1d)\n",
    "        # valid intervals: 1m,2m,5m,15m,30m,60m,90m,1h,1d,5d,1wk,1mo,3mo\n",
    "        # (optional, default is '1d')\n",
    "\n",
    "# example: \n",
    "\n",
    "ticker_request = '{\"ticker\": \"BTC-USD\", \"period\": \"3mo\", \"interval\": \"1h\"}'\n"
   ]
  }
 ],
 "metadata": {
  "kernelspec": {
   "display_name": "Python 3 (ipykernel)",
   "language": "python",
   "name": "python3"
  },
  "language_info": {
   "codemirror_mode": {
    "name": "ipython",
    "version": 3
   },
   "file_extension": ".py",
   "mimetype": "text/x-python",
   "name": "python",
   "nbconvert_exporter": "python",
   "pygments_lexer": "ipython3",
   "version": "3.9.6"
  }
 },
 "nbformat": 4,
 "nbformat_minor": 5
}

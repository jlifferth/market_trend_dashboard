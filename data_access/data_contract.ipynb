{
 "cells": [
  {
   "cell_type": "markdown",
   "id": "58d2fbac",
   "metadata": {},
   "source": [
    "# Basic ticker history request -- returns normal price history\n",
    "\n",
    "Basic history ticker request will be accessible at the following route:\n",
    "\n",
    "@app.route(/history)\n"
   ]
  },
  {
   "cell_type": "code",
   "execution_count": 51,
   "id": "ab391ded",
   "metadata": {},
   "outputs": [],
   "source": [
    "# JSON request format:\n",
    "\n",
    "# request = '{\"ticker\": \"string\", \n",
    "#             \"start\": \"ISO 8601 datetime string\", \n",
    "#             \"end\": \"ISO 8601 datetime string\", \n",
    "#             \"interval\": \"string\"}'\n",
    "\n",
    "# use \"period\" instead of start/end\n",
    "        # valid periods: 1d,5d,1mo,3mo,6mo,1y,2y,5y,10y,ytd,max\n",
    "        # (optional, default is '1mo')\n",
    "\n",
    "# fetch data by interval (including intraday if period < 60 days--\n",
    "        # meaning, if we want a period greater than 60 days, the smallest interval available is 1d)\n",
    "        # valid intervals: 1m,2m,5m,15m,30m,60m,90m,1h,1d,5d,1wk,1mo,3mo\n",
    "        # (optional, default is '1d')\n",
    "\n",
    "# example: \n",
    "\n",
    "ticker_request = '{\"ticker\": \"BTC-USD\",\"start\":\"2021-01-01T00:00:00.000Z\",\"end\": \"2022-01-01T00:00:00.000Z\",\"interval\": \"1mo\"}'\n",
    "\n",
    "# switch to start, end NOT period"
   ]
  },
  {
   "cell_type": "code",
   "execution_count": 52,
   "id": "12163a81",
   "metadata": {},
   "outputs": [
    {
     "data": {
      "text/plain": [
       "'{\"ticker\": \"BTC-USD\",\"start\":\"2021-01-01T00:00:00.000Z\",\"end\": \"2022-01-01T00:00:00.000Z\",\"interval\": \"1mo\"}'"
      ]
     },
     "execution_count": 52,
     "metadata": {},
     "output_type": "execute_result"
    }
   ],
   "source": [
    "ticker_request"
   ]
  },
  {
   "cell_type": "code",
   "execution_count": 53,
   "id": "463bd252",
   "metadata": {
    "scrolled": true
   },
   "outputs": [
    {
     "data": {
      "text/plain": [
       "{'ticker': 'BTC-USD',\n",
       " 'start': datetime.datetime(2021, 1, 1, 0, 0, tzinfo=tzutc()),\n",
       " 'end': datetime.datetime(2022, 1, 1, 0, 0, tzinfo=tzutc()),\n",
       " 'interval': '1mo'}"
      ]
     },
     "execution_count": 53,
     "metadata": {},
     "output_type": "execute_result"
    }
   ],
   "source": [
    "# requests will be handled as follows.\n",
    "\n",
    "import yfinance as yf\n",
    "import pandas as pd\n",
    "import json\n",
    "from dateutil import parser\n",
    "\n",
    "request_dict = json.loads(ticker_request)\n",
    "request_dict['start'] = parser.parse(request_dict['start'])\n",
    "request_dict['end'] = parser.parse(request_dict['end'])\n",
    "request_dict"
   ]
  },
  {
   "cell_type": "code",
   "execution_count": 54,
   "id": "74862df3",
   "metadata": {},
   "outputs": [],
   "source": [
    "# datestring = request_dict['start']\n",
    "# yourdate = parser.parse(datestring)\n"
   ]
  },
  {
   "cell_type": "code",
   "execution_count": 55,
   "id": "1bdd65ac",
   "metadata": {},
   "outputs": [],
   "source": [
    "ticker = yf.Ticker(request_dict['ticker'])\n",
    "ticker_price = ticker.history(start=request_dict['start'], end=request_dict['end'], interval=request_dict['interval'])"
   ]
  },
  {
   "cell_type": "code",
   "execution_count": 56,
   "id": "b53728b8",
   "metadata": {},
   "outputs": [],
   "source": [
    "ticker_price = ticker_price.drop(columns=['Dividends','Stock Splits'])"
   ]
  },
  {
   "cell_type": "code",
   "execution_count": 57,
   "id": "2360feab",
   "metadata": {},
   "outputs": [
    {
     "data": {
      "text/html": [
       "<div>\n",
       "<style scoped>\n",
       "    .dataframe tbody tr th:only-of-type {\n",
       "        vertical-align: middle;\n",
       "    }\n",
       "\n",
       "    .dataframe tbody tr th {\n",
       "        vertical-align: top;\n",
       "    }\n",
       "\n",
       "    .dataframe thead th {\n",
       "        text-align: right;\n",
       "    }\n",
       "</style>\n",
       "<table border=\"1\" class=\"dataframe\">\n",
       "  <thead>\n",
       "    <tr style=\"text-align: right;\">\n",
       "      <th></th>\n",
       "      <th>Open</th>\n",
       "      <th>High</th>\n",
       "      <th>Low</th>\n",
       "      <th>Close</th>\n",
       "      <th>Volume</th>\n",
       "    </tr>\n",
       "    <tr>\n",
       "      <th>Date</th>\n",
       "      <th></th>\n",
       "      <th></th>\n",
       "      <th></th>\n",
       "      <th></th>\n",
       "      <th></th>\n",
       "    </tr>\n",
       "  </thead>\n",
       "  <tbody>\n",
       "    <tr>\n",
       "      <th>2021-01-01</th>\n",
       "      <td>28994.009766</td>\n",
       "      <td>41946.738281</td>\n",
       "      <td>28722.755859</td>\n",
       "      <td>33114.359375</td>\n",
       "      <td>2153473433571</td>\n",
       "    </tr>\n",
       "    <tr>\n",
       "      <th>2021-02-01</th>\n",
       "      <td>33114.578125</td>\n",
       "      <td>58330.570312</td>\n",
       "      <td>32384.228516</td>\n",
       "      <td>45137.769531</td>\n",
       "      <td>2267152936675</td>\n",
       "    </tr>\n",
       "    <tr>\n",
       "      <th>2021-03-01</th>\n",
       "      <td>45159.503906</td>\n",
       "      <td>61683.863281</td>\n",
       "      <td>45115.093750</td>\n",
       "      <td>58918.832031</td>\n",
       "      <td>1681184264687</td>\n",
       "    </tr>\n",
       "    <tr>\n",
       "      <th>2021-04-01</th>\n",
       "      <td>58926.562500</td>\n",
       "      <td>64863.097656</td>\n",
       "      <td>47159.484375</td>\n",
       "      <td>57750.175781</td>\n",
       "      <td>1844481772417</td>\n",
       "    </tr>\n",
       "    <tr>\n",
       "      <th>2021-05-01</th>\n",
       "      <td>57714.664062</td>\n",
       "      <td>59519.355469</td>\n",
       "      <td>30681.496094</td>\n",
       "      <td>37332.855469</td>\n",
       "      <td>1976593438572</td>\n",
       "    </tr>\n",
       "  </tbody>\n",
       "</table>\n",
       "</div>"
      ],
      "text/plain": [
       "                    Open          High           Low         Close  \\\n",
       "Date                                                                 \n",
       "2021-01-01  28994.009766  41946.738281  28722.755859  33114.359375   \n",
       "2021-02-01  33114.578125  58330.570312  32384.228516  45137.769531   \n",
       "2021-03-01  45159.503906  61683.863281  45115.093750  58918.832031   \n",
       "2021-04-01  58926.562500  64863.097656  47159.484375  57750.175781   \n",
       "2021-05-01  57714.664062  59519.355469  30681.496094  37332.855469   \n",
       "\n",
       "                   Volume  \n",
       "Date                       \n",
       "2021-01-01  2153473433571  \n",
       "2021-02-01  2267152936675  \n",
       "2021-03-01  1681184264687  \n",
       "2021-04-01  1844481772417  \n",
       "2021-05-01  1976593438572  "
      ]
     },
     "execution_count": 57,
     "metadata": {},
     "output_type": "execute_result"
    }
   ],
   "source": [
    "ticker_price.head()"
   ]
  },
  {
   "cell_type": "code",
   "execution_count": 58,
   "id": "a8e9d79f",
   "metadata": {},
   "outputs": [
    {
     "data": {
      "text/plain": [
       "'{\"schema\":{\"fields\":[{\"name\":\"Date\",\"type\":\"datetime\"},{\"name\":\"Open\",\"type\":\"number\"},{\"name\":\"High\",\"type\":\"number\"},{\"name\":\"Low\",\"type\":\"number\"},{\"name\":\"Close\",\"type\":\"number\"},{\"name\":\"Volume\",\"type\":\"integer\"}],\"primaryKey\":[\"Date\"],\"pandas_version\":\"0.20.0\"},\"data\":[{\"Date\":\"2021-01-01T00:00:00.000Z\",\"Open\":28994.009765625,\"High\":41946.73828125,\"Low\":28722.755859375,\"Close\":33114.359375,\"Volume\":2153473433571},{\"Date\":\"2021-02-01T00:00:00.000Z\",\"Open\":33114.578125,\"High\":58330.5703125,\"Low\":32384.228515625,\"Close\":45137.76953125,\"Volume\":2267152936675},{\"Date\":\"2021-03-01T00:00:00.000Z\",\"Open\":45159.50390625,\"High\":61683.86328125,\"Low\":45115.09375,\"Close\":58918.83203125,\"Volume\":1681184264687},{\"Date\":\"2021-04-01T00:00:00.000Z\",\"Open\":58926.5625,\"High\":64863.09765625,\"Low\":47159.484375,\"Close\":57750.17578125,\"Volume\":1844481772417},{\"Date\":\"2021-05-01T00:00:00.000Z\",\"Open\":57714.6640625,\"High\":59519.35546875,\"Low\":30681.49609375,\"Close\":37332.85546875,\"Volume\":1976593438572},{\"Date\":\"2021-06-01T00:00:00.000Z\",\"Open\":37293.79296875,\"High\":41295.26953125,\"Low\":28893.62109375,\"Close\":35040.8359375,\"Volume\":1189647451707},{\"Date\":\"2021-07-01T00:00:00.000Z\",\"Open\":35035.984375,\"High\":42235.546875,\"Low\":29360.955078125,\"Close\":41626.1953125,\"Volume\":819103381204},{\"Date\":\"2021-08-01T00:00:00.000Z\",\"Open\":41460.84375,\"High\":50482.078125,\"Low\":37458.00390625,\"Close\":47166.6875,\"Volume\":1014674184428},{\"Date\":\"2021-09-01T00:00:00.000Z\",\"Open\":47099.7734375,\"High\":52853.765625,\"Low\":39787.609375,\"Close\":43790.89453125,\"Volume\":1102139678824},{\"Date\":\"2021-10-01T00:00:00.000Z\",\"Open\":43816.7421875,\"High\":66930.390625,\"Low\":43320.0234375,\"Close\":61318.95703125,\"Volume\":1153077903534},{\"Date\":\"2021-11-01T00:00:00.000Z\",\"Open\":61320.44921875,\"High\":68789.625,\"Low\":53569.765625,\"Close\":57005.42578125,\"Volume\":1053270271383},{\"Date\":\"2021-12-01T00:00:00.000Z\",\"Open\":56907.96484375,\"High\":59041.68359375,\"Low\":42874.6171875,\"Close\":46306.4453125,\"Volume\":957047184722},{\"Date\":\"2022-01-01T00:00:00.000Z\",\"Open\":46311.74609375,\"High\":47881.40625,\"Low\":33184.05859375,\"Close\":38483.125,\"Volume\":923979037681}]}'"
      ]
     },
     "execution_count": 58,
     "metadata": {},
     "output_type": "execute_result"
    }
   ],
   "source": [
    "response = ticker_price.to_json(orient=\"table\", date_format=\"iso\")\n",
    "response"
   ]
  },
  {
   "cell_type": "markdown",
   "id": "85f41a4b",
   "metadata": {},
   "source": [
    "### JSON reponse in following format, one entry as an example\n",
    "\n",
    "sample_reponse = '{\"schema\":{\"fields\":[{\"name\":\"index\",\"type\":\"datetime\",\"tz\":\"UTC\"},\n",
    "            {\"name\":\"Open\",\"type\":\"number\"},\n",
    "            {\"name\":\"High\",\"type\":\"number\"},\n",
    "            {\"name\":\"Low\",\"type\":\"number\"},\n",
    "            {\"name\":\"Close\",\"type\":\"number\"},\n",
    "            {\"name\":\"Volume\",\"type\":\"integer\"}],\n",
    "            \"primaryKey\":[\"index\"],\n",
    "                \"pandas_version\":\"0.20.0\"},\n",
    "            \"data\":[{\"index\":\"2022-03-08T00:00:00.000Z\",\n",
    "                     \"Open\":38059.90234375,\n",
    "                     \"High\":38325.63671875,\n",
    "                     \"Low\":37957.38671875,\n",
    "                     \"Close\":38266.10546875,\n",
    "                     \"Volume\":401766400}]}'\n"
   ]
  },
  {
   "cell_type": "markdown",
   "id": "4d3b3be6",
   "metadata": {},
   "source": [
    "# ML prediction request -- returns normal price history as well as a prediction value for each time interval\n",
    "\n",
    "ML prediction request route:\n",
    "\n",
    "@app.route(/prediction)"
   ]
  },
  {
   "cell_type": "code",
   "execution_count": null,
   "id": "adaffee8",
   "metadata": {},
   "outputs": [],
   "source": [
    "# JSON request format:\n",
    "\n",
    "# prediction_request = '{\"ticker\": \"string\", \n",
    "#                         \"period\" (optional): \"string\", \n",
    "#                         \"interval\" (optional): \"string\", \n",
    "#                         \"model\": \"string\"}'\n",
    "\n",
    "# MVP model options: lr (linear regression), rfr (random forest regression)\n",
    "# MVP+ model options: TBD\n",
    "\n",
    "# example: \n",
    "\n",
    "prediction_request = '{\"ticker\": \"BTC-USD\", \"period\": \"1d\", \"interval\": \"1h\", \"model\": \"lr\"}'"
   ]
  }
 ],
 "metadata": {
  "kernelspec": {
   "display_name": "Python 3 (ipykernel)",
   "language": "python",
   "name": "python3"
  },
  "language_info": {
   "codemirror_mode": {
    "name": "ipython",
    "version": 3
   },
   "file_extension": ".py",
   "mimetype": "text/x-python",
   "name": "python",
   "nbconvert_exporter": "python",
   "pygments_lexer": "ipython3",
   "version": "3.8.8"
  }
 },
 "nbformat": 4,
 "nbformat_minor": 5
}

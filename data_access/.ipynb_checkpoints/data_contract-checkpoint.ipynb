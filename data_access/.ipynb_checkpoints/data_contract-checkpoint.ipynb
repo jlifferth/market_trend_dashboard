{
 "cells": [
  {
   "cell_type": "markdown",
   "id": "58d2fbac",
   "metadata": {},
   "source": [
    "# Basic ticker history request -- returns normal price history\n",
    "\n",
    "* let's stick with the time period parameter provided by yfinance instead of specifying start and end dates, this way there are just fewer potential things that can break. But if anybody has strong feelings, we could specify start and end dates."
   ]
  },
  {
   "cell_type": "code",
   "execution_count": 10,
   "id": "ab391ded",
   "metadata": {},
   "outputs": [],
   "source": [
    "# JSON request format:\n",
    "\n",
    "# request = '{\"ticker\": \"string\", \"period\" (optional): \"string\", \"interval\" (optional): \"string\"}'\n",
    "\n",
    "# use \"period\" instead of start/end\n",
    "        # valid periods: 1d,5d,1mo,3mo,6mo,1y,2y,5y,10y,ytd,max\n",
    "        # (optional, default is '1mo')\n",
    "\n",
    "# fetch data by interval (including intraday if period < 60 days--\n",
    "        # meaning, if we want a period greater than 60 days, the smallest interval available is 1d)\n",
    "        # valid intervals: 1m,2m,5m,15m,30m,60m,90m,1h,1d,5d,1wk,1mo,3mo\n",
    "        # (optional, default is '1d')\n",
    "\n",
    "# example: \n",
    "\n",
    "ticker_request = '{\"ticker\": \"BTC-USD\", \"period\": \"1d\", \"interval\": \"1h\"}'\n"
   ]
  },
  {
   "cell_type": "code",
   "execution_count": 11,
   "id": "12163a81",
   "metadata": {},
   "outputs": [
    {
     "data": {
      "text/plain": [
       "'{\"ticker\": \"BTC-USD\", \"period\": \"1d\", \"interval\": \"1h\"}'"
      ]
     },
     "execution_count": 11,
     "metadata": {},
     "output_type": "execute_result"
    }
   ],
   "source": [
    "ticker_request"
   ]
  },
  {
   "cell_type": "code",
   "execution_count": 12,
   "id": "463bd252",
   "metadata": {},
   "outputs": [
    {
     "data": {
      "text/plain": [
       "{'ticker': 'BTC-USD', 'period': '1d', 'interval': '1h'}"
      ]
     },
     "execution_count": 12,
     "metadata": {},
     "output_type": "execute_result"
    }
   ],
   "source": [
    "# requests will be handled as follows.\n",
    "\n",
    "import yfinance as yf\n",
    "import pandas as pd\n",
    "import json\n",
    "\n",
    "request_dict = json.loads(ticker_request)\n",
    "request_dict"
   ]
  },
  {
   "cell_type": "code",
   "execution_count": 13,
   "id": "1bdd65ac",
   "metadata": {},
   "outputs": [],
   "source": [
    "ticker = yf.Ticker(request_dict['ticker'])\n",
    "ticker_price = ticker.history(period=request_dict['period'], interval=request_dict['interval'])"
   ]
  },
  {
   "cell_type": "code",
   "execution_count": 16,
   "id": "b53728b8",
   "metadata": {},
   "outputs": [
    {
     "data": {
      "text/html": [
       "<div>\n",
       "<style scoped>\n",
       "    .dataframe tbody tr th:only-of-type {\n",
       "        vertical-align: middle;\n",
       "    }\n",
       "\n",
       "    .dataframe tbody tr th {\n",
       "        vertical-align: top;\n",
       "    }\n",
       "\n",
       "    .dataframe thead th {\n",
       "        text-align: right;\n",
       "    }\n",
       "</style>\n",
       "<table border=\"1\" class=\"dataframe\">\n",
       "  <thead>\n",
       "    <tr style=\"text-align: right;\">\n",
       "      <th></th>\n",
       "      <th>Open</th>\n",
       "      <th>High</th>\n",
       "      <th>Low</th>\n",
       "      <th>Close</th>\n",
       "      <th>Volume</th>\n",
       "    </tr>\n",
       "  </thead>\n",
       "  <tbody>\n",
       "    <tr>\n",
       "      <th>2022-03-08 00:00:00+00:00</th>\n",
       "      <td>38059.902344</td>\n",
       "      <td>38325.636719</td>\n",
       "      <td>37957.386719</td>\n",
       "      <td>38266.105469</td>\n",
       "      <td>401766400</td>\n",
       "    </tr>\n",
       "    <tr>\n",
       "      <th>2022-03-08 01:00:00+00:00</th>\n",
       "      <td>38253.636719</td>\n",
       "      <td>38445.320312</td>\n",
       "      <td>38149.222656</td>\n",
       "      <td>38402.375000</td>\n",
       "      <td>600453120</td>\n",
       "    </tr>\n",
       "    <tr>\n",
       "      <th>2022-03-08 02:00:00+00:00</th>\n",
       "      <td>38372.992188</td>\n",
       "      <td>38838.320312</td>\n",
       "      <td>38223.167969</td>\n",
       "      <td>38674.261719</td>\n",
       "      <td>712640512</td>\n",
       "    </tr>\n",
       "    <tr>\n",
       "      <th>2022-03-08 03:00:00+00:00</th>\n",
       "      <td>38667.320312</td>\n",
       "      <td>38688.750000</td>\n",
       "      <td>38573.089844</td>\n",
       "      <td>38665.253906</td>\n",
       "      <td>66793472</td>\n",
       "    </tr>\n",
       "    <tr>\n",
       "      <th>2022-03-08 04:00:00+00:00</th>\n",
       "      <td>38669.277344</td>\n",
       "      <td>38772.648438</td>\n",
       "      <td>38535.058594</td>\n",
       "      <td>38535.058594</td>\n",
       "      <td>188155904</td>\n",
       "    </tr>\n",
       "    <tr>\n",
       "      <th>2022-03-08 04:54:00+00:00</th>\n",
       "      <td>38531.292969</td>\n",
       "      <td>38531.292969</td>\n",
       "      <td>38531.292969</td>\n",
       "      <td>38531.292969</td>\n",
       "      <td>0</td>\n",
       "    </tr>\n",
       "  </tbody>\n",
       "</table>\n",
       "</div>"
      ],
      "text/plain": [
       "                                   Open          High           Low  \\\n",
       "2022-03-08 00:00:00+00:00  38059.902344  38325.636719  37957.386719   \n",
       "2022-03-08 01:00:00+00:00  38253.636719  38445.320312  38149.222656   \n",
       "2022-03-08 02:00:00+00:00  38372.992188  38838.320312  38223.167969   \n",
       "2022-03-08 03:00:00+00:00  38667.320312  38688.750000  38573.089844   \n",
       "2022-03-08 04:00:00+00:00  38669.277344  38772.648438  38535.058594   \n",
       "2022-03-08 04:54:00+00:00  38531.292969  38531.292969  38531.292969   \n",
       "\n",
       "                                  Close     Volume  \n",
       "2022-03-08 00:00:00+00:00  38266.105469  401766400  \n",
       "2022-03-08 01:00:00+00:00  38402.375000  600453120  \n",
       "2022-03-08 02:00:00+00:00  38674.261719  712640512  \n",
       "2022-03-08 03:00:00+00:00  38665.253906   66793472  \n",
       "2022-03-08 04:00:00+00:00  38535.058594  188155904  \n",
       "2022-03-08 04:54:00+00:00  38531.292969          0  "
      ]
     },
     "execution_count": 16,
     "metadata": {},
     "output_type": "execute_result"
    }
   ],
   "source": [
    "ticker_price = ticker_price.drop(columns=['Dividends','Stock Splits'])\n",
    "ticker_price"
   ]
  },
  {
   "cell_type": "code",
   "execution_count": 17,
   "id": "a8e9d79f",
   "metadata": {},
   "outputs": [
    {
     "data": {
      "text/plain": [
       "'{\"schema\":{\"fields\":[{\"name\":\"index\",\"type\":\"datetime\",\"tz\":\"UTC\"},{\"name\":\"Open\",\"type\":\"number\"},{\"name\":\"High\",\"type\":\"number\"},{\"name\":\"Low\",\"type\":\"number\"},{\"name\":\"Close\",\"type\":\"number\"},{\"name\":\"Volume\",\"type\":\"integer\"}],\"primaryKey\":[\"index\"],\"pandas_version\":\"0.20.0\"},\"data\":[{\"index\":\"2022-03-08T00:00:00.000Z\",\"Open\":38059.90234375,\"High\":38325.63671875,\"Low\":37957.38671875,\"Close\":38266.10546875,\"Volume\":401766400},{\"index\":\"2022-03-08T01:00:00.000Z\",\"Open\":38253.63671875,\"High\":38445.3203125,\"Low\":38149.22265625,\"Close\":38402.375,\"Volume\":600453120},{\"index\":\"2022-03-08T02:00:00.000Z\",\"Open\":38372.9921875,\"High\":38838.3203125,\"Low\":38223.16796875,\"Close\":38674.26171875,\"Volume\":712640512},{\"index\":\"2022-03-08T03:00:00.000Z\",\"Open\":38667.3203125,\"High\":38688.75,\"Low\":38573.08984375,\"Close\":38665.25390625,\"Volume\":66793472},{\"index\":\"2022-03-08T04:00:00.000Z\",\"Open\":38669.27734375,\"High\":38772.6484375,\"Low\":38535.05859375,\"Close\":38535.05859375,\"Volume\":188155904},{\"index\":\"2022-03-08T04:54:00.000Z\",\"Open\":38531.29296875,\"High\":38531.29296875,\"Low\":38531.29296875,\"Close\":38531.29296875,\"Volume\":0}]}'"
      ]
     },
     "execution_count": 17,
     "metadata": {},
     "output_type": "execute_result"
    }
   ],
   "source": [
    "response = ticker_price.to_json(orient=\"table\", date_format=\"iso\")\n",
    "response"
   ]
  },
  {
   "cell_type": "markdown",
   "id": "85f41a4b",
   "metadata": {},
   "source": [
    "### JSON reponse in following format, one entry as an example\n",
    "\n",
    "sample_reponse = '{\"schema\":{\"fields\":[{\"name\":\"index\",\"type\":\"datetime\",\"tz\":\"UTC\"},\n",
    "            {\"name\":\"Open\",\"type\":\"number\"},\n",
    "            {\"name\":\"High\",\"type\":\"number\"},\n",
    "            {\"name\":\"Low\",\"type\":\"number\"},\n",
    "            {\"name\":\"Close\",\"type\":\"number\"},\n",
    "            {\"name\":\"Volume\",\"type\":\"integer\"}],\n",
    "            \"primaryKey\":[\"index\"],\n",
    "                \"pandas_version\":\"0.20.0\"},\n",
    "            \"data\":[{\"index\":\"2022-03-08T00:00:00.000Z\",\n",
    "                     \"Open\":38059.90234375,\n",
    "                     \"High\":38325.63671875,\n",
    "                     \"Low\":37957.38671875,\n",
    "                     \"Close\":38266.10546875,\n",
    "                     \"Volume\":401766400}]}'\n"
   ]
  },
  {
   "cell_type": "markdown",
   "id": "4d3b3be6",
   "metadata": {},
   "source": [
    "# ML prediction request -- returns normal price history as well as a prediction value for each time interval\n",
    "\n",
    "* in progress"
   ]
  }
 ],
 "metadata": {
  "kernelspec": {
   "display_name": "Python 3 (ipykernel)",
   "language": "python",
   "name": "python3"
  },
  "language_info": {
   "codemirror_mode": {
    "name": "ipython",
    "version": 3
   },
   "file_extension": ".py",
   "mimetype": "text/x-python",
   "name": "python",
   "nbconvert_exporter": "python",
   "pygments_lexer": "ipython3",
   "version": "3.9.6"
  }
 },
 "nbformat": 4,
 "nbformat_minor": 5
}

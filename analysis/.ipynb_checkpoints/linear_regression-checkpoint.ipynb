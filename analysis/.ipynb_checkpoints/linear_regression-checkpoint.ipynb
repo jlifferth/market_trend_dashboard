{
 "cells": [
  {
   "cell_type": "code",
   "execution_count": 11,
   "id": "4ec6745f",
   "metadata": {},
   "outputs": [],
   "source": [
    "import yfinance as yf\n",
    "import pandas as pd\n",
    "import json\n",
    "import seaborn as sn\n",
    "\n",
    "# valid periods: 1d,5d,1mo,3mo,6mo,1y,2y,5y,10y,ytd,max\n",
    "# valid intervals: 1m,2m,5m,15m,30m,60m,90m,1h,1d,5d,1wk,1mo,3mo"
   ]
  },
  {
   "cell_type": "code",
   "execution_count": 22,
   "id": "95a2c291",
   "metadata": {},
   "outputs": [
    {
     "data": {
      "text/plain": [
       "{'ticker': 'BTC-USD', 'period': '1y', 'interval': '1d'}"
      ]
     },
     "execution_count": 22,
     "metadata": {},
     "output_type": "execute_result"
    }
   ],
   "source": [
    "ticker_request = '{\"ticker\": \"BTC-USD\", \"period\": \"1y\", \"interval\": \"1d\"}'\n",
    "\n",
    "request_dict = json.loads(ticker_request)\n",
    "request_dict"
   ]
  },
  {
   "cell_type": "code",
   "execution_count": 23,
   "id": "4da57de2",
   "metadata": {},
   "outputs": [],
   "source": [
    "ticker = yf.Ticker(request_dict['ticker'])\n",
    "ticker_price = ticker.history(period=request_dict['period'], interval=request_dict['interval'])"
   ]
  },
  {
   "cell_type": "code",
   "execution_count": 24,
   "id": "332c1ac5",
   "metadata": {},
   "outputs": [
    {
     "data": {
      "text/html": [
       "<div>\n",
       "<style scoped>\n",
       "    .dataframe tbody tr th:only-of-type {\n",
       "        vertical-align: middle;\n",
       "    }\n",
       "\n",
       "    .dataframe tbody tr th {\n",
       "        vertical-align: top;\n",
       "    }\n",
       "\n",
       "    .dataframe thead th {\n",
       "        text-align: right;\n",
       "    }\n",
       "</style>\n",
       "<table border=\"1\" class=\"dataframe\">\n",
       "  <thead>\n",
       "    <tr style=\"text-align: right;\">\n",
       "      <th></th>\n",
       "      <th>Open</th>\n",
       "      <th>High</th>\n",
       "      <th>Low</th>\n",
       "      <th>Close</th>\n",
       "      <th>Volume</th>\n",
       "    </tr>\n",
       "    <tr>\n",
       "      <th>Date</th>\n",
       "      <th></th>\n",
       "      <th></th>\n",
       "      <th></th>\n",
       "      <th></th>\n",
       "      <th></th>\n",
       "    </tr>\n",
       "  </thead>\n",
       "  <tbody>\n",
       "    <tr>\n",
       "      <th>2021-03-09</th>\n",
       "      <td>52272.968750</td>\n",
       "      <td>54824.117188</td>\n",
       "      <td>51981.832031</td>\n",
       "      <td>54824.117188</td>\n",
       "      <td>50912227385</td>\n",
       "    </tr>\n",
       "    <tr>\n",
       "      <th>2021-03-10</th>\n",
       "      <td>54824.011719</td>\n",
       "      <td>57258.253906</td>\n",
       "      <td>53290.890625</td>\n",
       "      <td>56008.550781</td>\n",
       "      <td>57295577614</td>\n",
       "    </tr>\n",
       "    <tr>\n",
       "      <th>2021-03-11</th>\n",
       "      <td>55963.179688</td>\n",
       "      <td>58091.062500</td>\n",
       "      <td>54484.593750</td>\n",
       "      <td>57805.121094</td>\n",
       "      <td>56772343595</td>\n",
       "    </tr>\n",
       "    <tr>\n",
       "      <th>2021-03-12</th>\n",
       "      <td>57821.218750</td>\n",
       "      <td>57996.621094</td>\n",
       "      <td>55376.648438</td>\n",
       "      <td>57332.089844</td>\n",
       "      <td>55689944702</td>\n",
       "    </tr>\n",
       "    <tr>\n",
       "      <th>2021-03-13</th>\n",
       "      <td>57343.371094</td>\n",
       "      <td>61683.863281</td>\n",
       "      <td>56217.972656</td>\n",
       "      <td>61243.085938</td>\n",
       "      <td>60669829814</td>\n",
       "    </tr>\n",
       "    <tr>\n",
       "      <th>...</th>\n",
       "      <td>...</td>\n",
       "      <td>...</td>\n",
       "      <td>...</td>\n",
       "      <td>...</td>\n",
       "      <td>...</td>\n",
       "    </tr>\n",
       "    <tr>\n",
       "      <th>2022-03-04</th>\n",
       "      <td>42458.140625</td>\n",
       "      <td>42479.613281</td>\n",
       "      <td>38805.847656</td>\n",
       "      <td>39137.605469</td>\n",
       "      <td>28516271427</td>\n",
       "    </tr>\n",
       "    <tr>\n",
       "      <th>2022-03-05</th>\n",
       "      <td>39148.449219</td>\n",
       "      <td>39566.335938</td>\n",
       "      <td>38777.035156</td>\n",
       "      <td>39400.585938</td>\n",
       "      <td>16975917450</td>\n",
       "    </tr>\n",
       "    <tr>\n",
       "      <th>2022-03-06</th>\n",
       "      <td>39404.199219</td>\n",
       "      <td>39640.175781</td>\n",
       "      <td>38211.648438</td>\n",
       "      <td>38419.984375</td>\n",
       "      <td>19745229902</td>\n",
       "    </tr>\n",
       "    <tr>\n",
       "      <th>2022-03-07</th>\n",
       "      <td>38429.304688</td>\n",
       "      <td>39430.226562</td>\n",
       "      <td>37260.203125</td>\n",
       "      <td>38062.039062</td>\n",
       "      <td>28546143503</td>\n",
       "    </tr>\n",
       "    <tr>\n",
       "      <th>2022-03-09</th>\n",
       "      <td>38767.152344</td>\n",
       "      <td>41606.058594</td>\n",
       "      <td>38706.093750</td>\n",
       "      <td>41581.605469</td>\n",
       "      <td>32479010816</td>\n",
       "    </tr>\n",
       "  </tbody>\n",
       "</table>\n",
       "<p>365 rows × 5 columns</p>\n",
       "</div>"
      ],
      "text/plain": [
       "                    Open          High           Low         Close  \\\n",
       "Date                                                                 \n",
       "2021-03-09  52272.968750  54824.117188  51981.832031  54824.117188   \n",
       "2021-03-10  54824.011719  57258.253906  53290.890625  56008.550781   \n",
       "2021-03-11  55963.179688  58091.062500  54484.593750  57805.121094   \n",
       "2021-03-12  57821.218750  57996.621094  55376.648438  57332.089844   \n",
       "2021-03-13  57343.371094  61683.863281  56217.972656  61243.085938   \n",
       "...                  ...           ...           ...           ...   \n",
       "2022-03-04  42458.140625  42479.613281  38805.847656  39137.605469   \n",
       "2022-03-05  39148.449219  39566.335938  38777.035156  39400.585938   \n",
       "2022-03-06  39404.199219  39640.175781  38211.648438  38419.984375   \n",
       "2022-03-07  38429.304688  39430.226562  37260.203125  38062.039062   \n",
       "2022-03-09  38767.152344  41606.058594  38706.093750  41581.605469   \n",
       "\n",
       "                 Volume  \n",
       "Date                     \n",
       "2021-03-09  50912227385  \n",
       "2021-03-10  57295577614  \n",
       "2021-03-11  56772343595  \n",
       "2021-03-12  55689944702  \n",
       "2021-03-13  60669829814  \n",
       "...                 ...  \n",
       "2022-03-04  28516271427  \n",
       "2022-03-05  16975917450  \n",
       "2022-03-06  19745229902  \n",
       "2022-03-07  28546143503  \n",
       "2022-03-09  32479010816  \n",
       "\n",
       "[365 rows x 5 columns]"
      ]
     },
     "execution_count": 24,
     "metadata": {},
     "output_type": "execute_result"
    }
   ],
   "source": [
    "ticker_price = ticker_price.drop(columns=['Dividends','Stock Splits'])\n",
    "ticker_price"
   ]
  },
  {
   "cell_type": "code",
   "execution_count": 29,
   "id": "bf1543d3",
   "metadata": {},
   "outputs": [],
   "source": [
    "close_price = ticker_price"
   ]
  },
  {
   "cell_type": "code",
   "execution_count": 30,
   "id": "dbeb399d",
   "metadata": {},
   "outputs": [
    {
     "data": {
      "text/html": [
       "<div>\n",
       "<style scoped>\n",
       "    .dataframe tbody tr th:only-of-type {\n",
       "        vertical-align: middle;\n",
       "    }\n",
       "\n",
       "    .dataframe tbody tr th {\n",
       "        vertical-align: top;\n",
       "    }\n",
       "\n",
       "    .dataframe thead th {\n",
       "        text-align: right;\n",
       "    }\n",
       "</style>\n",
       "<table border=\"1\" class=\"dataframe\">\n",
       "  <thead>\n",
       "    <tr style=\"text-align: right;\">\n",
       "      <th></th>\n",
       "      <th>Open</th>\n",
       "      <th>High</th>\n",
       "      <th>Low</th>\n",
       "      <th>Close</th>\n",
       "      <th>Volume</th>\n",
       "    </tr>\n",
       "    <tr>\n",
       "      <th>Date</th>\n",
       "      <th></th>\n",
       "      <th></th>\n",
       "      <th></th>\n",
       "      <th></th>\n",
       "      <th></th>\n",
       "    </tr>\n",
       "  </thead>\n",
       "  <tbody>\n",
       "    <tr>\n",
       "      <th>2021-03-09</th>\n",
       "      <td>52272.968750</td>\n",
       "      <td>54824.117188</td>\n",
       "      <td>51981.832031</td>\n",
       "      <td>54824.117188</td>\n",
       "      <td>50912227385</td>\n",
       "    </tr>\n",
       "    <tr>\n",
       "      <th>2021-03-10</th>\n",
       "      <td>54824.011719</td>\n",
       "      <td>57258.253906</td>\n",
       "      <td>53290.890625</td>\n",
       "      <td>56008.550781</td>\n",
       "      <td>57295577614</td>\n",
       "    </tr>\n",
       "    <tr>\n",
       "      <th>2021-03-11</th>\n",
       "      <td>55963.179688</td>\n",
       "      <td>58091.062500</td>\n",
       "      <td>54484.593750</td>\n",
       "      <td>57805.121094</td>\n",
       "      <td>56772343595</td>\n",
       "    </tr>\n",
       "    <tr>\n",
       "      <th>2021-03-12</th>\n",
       "      <td>57821.218750</td>\n",
       "      <td>57996.621094</td>\n",
       "      <td>55376.648438</td>\n",
       "      <td>57332.089844</td>\n",
       "      <td>55689944702</td>\n",
       "    </tr>\n",
       "    <tr>\n",
       "      <th>2021-03-13</th>\n",
       "      <td>57343.371094</td>\n",
       "      <td>61683.863281</td>\n",
       "      <td>56217.972656</td>\n",
       "      <td>61243.085938</td>\n",
       "      <td>60669829814</td>\n",
       "    </tr>\n",
       "    <tr>\n",
       "      <th>...</th>\n",
       "      <td>...</td>\n",
       "      <td>...</td>\n",
       "      <td>...</td>\n",
       "      <td>...</td>\n",
       "      <td>...</td>\n",
       "    </tr>\n",
       "    <tr>\n",
       "      <th>2022-03-04</th>\n",
       "      <td>42458.140625</td>\n",
       "      <td>42479.613281</td>\n",
       "      <td>38805.847656</td>\n",
       "      <td>39137.605469</td>\n",
       "      <td>28516271427</td>\n",
       "    </tr>\n",
       "    <tr>\n",
       "      <th>2022-03-05</th>\n",
       "      <td>39148.449219</td>\n",
       "      <td>39566.335938</td>\n",
       "      <td>38777.035156</td>\n",
       "      <td>39400.585938</td>\n",
       "      <td>16975917450</td>\n",
       "    </tr>\n",
       "    <tr>\n",
       "      <th>2022-03-06</th>\n",
       "      <td>39404.199219</td>\n",
       "      <td>39640.175781</td>\n",
       "      <td>38211.648438</td>\n",
       "      <td>38419.984375</td>\n",
       "      <td>19745229902</td>\n",
       "    </tr>\n",
       "    <tr>\n",
       "      <th>2022-03-07</th>\n",
       "      <td>38429.304688</td>\n",
       "      <td>39430.226562</td>\n",
       "      <td>37260.203125</td>\n",
       "      <td>38062.039062</td>\n",
       "      <td>28546143503</td>\n",
       "    </tr>\n",
       "    <tr>\n",
       "      <th>2022-03-09</th>\n",
       "      <td>38767.152344</td>\n",
       "      <td>41606.058594</td>\n",
       "      <td>38706.093750</td>\n",
       "      <td>41581.605469</td>\n",
       "      <td>32479010816</td>\n",
       "    </tr>\n",
       "  </tbody>\n",
       "</table>\n",
       "<p>365 rows × 5 columns</p>\n",
       "</div>"
      ],
      "text/plain": [
       "                    Open          High           Low         Close  \\\n",
       "Date                                                                 \n",
       "2021-03-09  52272.968750  54824.117188  51981.832031  54824.117188   \n",
       "2021-03-10  54824.011719  57258.253906  53290.890625  56008.550781   \n",
       "2021-03-11  55963.179688  58091.062500  54484.593750  57805.121094   \n",
       "2021-03-12  57821.218750  57996.621094  55376.648438  57332.089844   \n",
       "2021-03-13  57343.371094  61683.863281  56217.972656  61243.085938   \n",
       "...                  ...           ...           ...           ...   \n",
       "2022-03-04  42458.140625  42479.613281  38805.847656  39137.605469   \n",
       "2022-03-05  39148.449219  39566.335938  38777.035156  39400.585938   \n",
       "2022-03-06  39404.199219  39640.175781  38211.648438  38419.984375   \n",
       "2022-03-07  38429.304688  39430.226562  37260.203125  38062.039062   \n",
       "2022-03-09  38767.152344  41606.058594  38706.093750  41581.605469   \n",
       "\n",
       "                 Volume  \n",
       "Date                     \n",
       "2021-03-09  50912227385  \n",
       "2021-03-10  57295577614  \n",
       "2021-03-11  56772343595  \n",
       "2021-03-12  55689944702  \n",
       "2021-03-13  60669829814  \n",
       "...                 ...  \n",
       "2022-03-04  28516271427  \n",
       "2022-03-05  16975917450  \n",
       "2022-03-06  19745229902  \n",
       "2022-03-07  28546143503  \n",
       "2022-03-09  32479010816  \n",
       "\n",
       "[365 rows x 5 columns]"
      ]
     },
     "execution_count": 30,
     "metadata": {},
     "output_type": "execute_result"
    }
   ],
   "source": [
    "close_price"
   ]
  },
  {
   "cell_type": "code",
   "execution_count": 32,
   "id": "b0ecb317",
   "metadata": {},
   "outputs": [
    {
     "data": {
      "image/png": "[encoded data removed]",
      "text/plain": [
       "<Figure size 720x360 with 1 Axes>"
      ]
     },
     "metadata": {
      "needs_background": "light"
     },
     "output_type": "display_data"
    }
   ],
   "source": [
    "close_price.Close.plot(figsize=(10,5)) \n",
    "plt.ylabel(\"BTC Closing Price\")\n",
    "plt.show()"
   ]
  },
  {
   "cell_type": "code",
   "execution_count": 34,
   "id": "9952012b",
   "metadata": {},
   "outputs": [
    {
     "name": "stderr",
     "output_type": "stream",
     "text": [
      "/var/folders/sw/bhwsqj457gg7f1ycx1_p1j480000gn/T/ipykernel_4705/2969733240.py:1: SettingWithCopyWarning: \n",
      "A value is trying to be set on a copy of a slice from a DataFrame.\n",
      "Try using .loc[row_indexer,col_indexer] = value instead\n",
      "\n",
      "See the caveats in the documentation: https://pandas.pydata.org/pandas-docs/stable/user_guide/indexing.html#returning-a-view-versus-a-copy\n",
      "  close_price['MA_3'] = close_price['Close'].shift(1).rolling(window=3).mean()\n",
      "/var/folders/sw/bhwsqj457gg7f1ycx1_p1j480000gn/T/ipykernel_4705/2969733240.py:2: SettingWithCopyWarning: \n",
      "A value is trying to be set on a copy of a slice from a DataFrame.\n",
      "Try using .loc[row_indexer,col_indexer] = value instead\n",
      "\n",
      "See the caveats in the documentation: https://pandas.pydata.org/pandas-docs/stable/user_guide/indexing.html#returning-a-view-versus-a-copy\n",
      "  close_price['MA_9']= close_price['Close'].shift(1).rolling(window=9).mean()\n"
     ]
    },
    {
     "data": {
      "text/html": [
       "<div>\n",
       "<style scoped>\n",
       "    .dataframe tbody tr th:only-of-type {\n",
       "        vertical-align: middle;\n",
       "    }\n",
       "\n",
       "    .dataframe tbody tr th {\n",
       "        vertical-align: top;\n",
       "    }\n",
       "\n",
       "    .dataframe thead th {\n",
       "        text-align: right;\n",
       "    }\n",
       "</style>\n",
       "<table border=\"1\" class=\"dataframe\">\n",
       "  <thead>\n",
       "    <tr style=\"text-align: right;\">\n",
       "      <th></th>\n",
       "      <th>MA_3</th>\n",
       "      <th>MA_9</th>\n",
       "    </tr>\n",
       "    <tr>\n",
       "      <th>Date</th>\n",
       "      <th></th>\n",
       "      <th></th>\n",
       "    </tr>\n",
       "  </thead>\n",
       "  <tbody>\n",
       "    <tr>\n",
       "      <th>2021-03-27</th>\n",
       "      <td>53205.246094</td>\n",
       "      <td>55658.496528</td>\n",
       "    </tr>\n",
       "    <tr>\n",
       "      <th>2021-03-28</th>\n",
       "      <td>54271.661458</td>\n",
       "      <td>55449.006510</td>\n",
       "    </tr>\n",
       "    <tr>\n",
       "      <th>2021-03-29</th>\n",
       "      <td>55687.190104</td>\n",
       "      <td>55182.794705</td>\n",
       "    </tr>\n",
       "    <tr>\n",
       "      <th>2021-03-30</th>\n",
       "      <td>56558.152344</td>\n",
       "      <td>55120.189670</td>\n",
       "    </tr>\n",
       "    <tr>\n",
       "      <th>2021-03-31</th>\n",
       "      <td>57539.545573</td>\n",
       "      <td>55275.108507</td>\n",
       "    </tr>\n",
       "  </tbody>\n",
       "</table>\n",
       "</div>"
      ],
      "text/plain": [
       "                    MA_3          MA_9\n",
       "Date                                  \n",
       "2021-03-27  53205.246094  55658.496528\n",
       "2021-03-28  54271.661458  55449.006510\n",
       "2021-03-29  55687.190104  55182.794705\n",
       "2021-03-30  56558.152344  55120.189670\n",
       "2021-03-31  57539.545573  55275.108507"
      ]
     },
     "execution_count": 34,
     "metadata": {},
     "output_type": "execute_result"
    }
   ],
   "source": [
    "close_price['MA_3'] = close_price['Close'].shift(1).rolling(window=3).mean() \n",
    "close_price['MA_9']= close_price['Close'].shift(1).rolling(window=9).mean() \n",
    "close_price= close_price.dropna() \n",
    "X = close_price[['MA_3','MA_9']] \n",
    "X.head()"
   ]
  },
  {
   "cell_type": "code",
   "execution_count": 35,
   "id": "684adc4e",
   "metadata": {},
   "outputs": [
    {
     "data": {
      "text/plain": [
       "Date\n",
       "2021-03-27    55973.511719\n",
       "2021-03-28    55950.746094\n",
       "2021-03-29    57750.199219\n",
       "2021-03-30    58917.691406\n",
       "2021-03-31    58918.832031\n",
       "Name: Close, dtype: float64"
      ]
     },
     "execution_count": 35,
     "metadata": {},
     "output_type": "execute_result"
    }
   ],
   "source": [
    "y = close_price['Close']\n",
    "y.head()"
   ]
  },
  {
   "cell_type": "code",
   "execution_count": 41,
   "id": "51e53001",
   "metadata": {},
   "outputs": [],
   "source": [
    "t=.8 \n",
    "t = int(t*len(close_price)) \n",
    "# Train dataset \n",
    "X_train = X[:t] \n",
    "y_train = y[:t]  \n",
    "# Test dataset \n",
    "X_test = X[t:] \n",
    "y_test = y[t:]"
   ]
  },
  {
   "cell_type": "code",
   "execution_count": 43,
   "id": "588dd807",
   "metadata": {},
   "outputs": [],
   "source": [
    "from sklearn.linear_model import LinearRegression "
   ]
  },
  {
   "cell_type": "code",
   "execution_count": 44,
   "id": "141a4872",
   "metadata": {},
   "outputs": [],
   "source": [
    "linear = LinearRegression().fit(X_train,y_train)"
   ]
  },
  {
   "cell_type": "code",
   "execution_count": 45,
   "id": "2cb79823",
   "metadata": {},
   "outputs": [
    {
     "data": {
      "image/png": "[encoded data removed]",
      "text/plain": [
       "<Figure size 720x360 with 1 Axes>"
      ]
     },
     "metadata": {
      "needs_background": "light"
     },
     "output_type": "display_data"
    }
   ],
   "source": [
    "predicted_price = linear.predict(X_test)  \n",
    "predicted_price = pd.DataFrame(predicted_price,index=y_test.index,columns = ['price'])  \n",
    "predicted_price.plot(figsize=(10,5))  \n",
    "y_test.plot()  \n",
    "plt.legend(['predicted_price','actual_price'])  \n",
    "plt.ylabel(\"BTC-USD Price\")  \n",
    "plt.show()"
   ]
  },
  {
   "cell_type": "code",
   "execution_count": 47,
   "id": "d19ace4c",
   "metadata": {},
   "outputs": [
    {
     "name": "stdout",
     "output_type": "stream",
     "text": [
      "60.85\n"
     ]
    }
   ],
   "source": [
    "r2_score = linear.score(X[t:],y[t:])*100  \n",
    "print(\"{0:.2f}\".format(r2_score))"
   ]
  },
  {
   "cell_type": "code",
   "execution_count": 9,
   "id": "2eaa9578",
   "metadata": {},
   "outputs": [],
   "source": [
    "import matplotlib.pyplot as plt\n",
    "import numpy as np\n",
    "from sklearn import datasets, linear_model\n",
    "from sklearn.metrics import mean_squared_error, r2_score"
   ]
  },
  {
   "cell_type": "code",
   "execution_count": null,
   "id": "9b5959d2",
   "metadata": {},
   "outputs": [],
   "source": []
  },
  {
   "cell_type": "code",
   "execution_count": 10,
   "id": "edc17fcf",
   "metadata": {},
   "outputs": [
    {
     "name": "stdout",
     "output_type": "stream",
     "text": [
      "[[ 0.03807591  0.05068012  0.06169621 ... -0.00259226  0.01990842\n",
      "  -0.01764613]\n",
      " [-0.00188202 -0.04464164 -0.05147406 ... -0.03949338 -0.06832974\n",
      "  -0.09220405]\n",
      " [ 0.08529891  0.05068012  0.04445121 ... -0.00259226  0.00286377\n",
      "  -0.02593034]\n",
      " ...\n",
      " [ 0.04170844  0.05068012 -0.01590626 ... -0.01107952 -0.04687948\n",
      "   0.01549073]\n",
      " [-0.04547248 -0.04464164  0.03906215 ...  0.02655962  0.04452837\n",
      "  -0.02593034]\n",
      " [-0.04547248 -0.04464164 -0.0730303  ... -0.03949338 -0.00421986\n",
      "   0.00306441]]\n",
      "[151.  75. 141. 206. 135.  97. 138.  63. 110. 310. 101.  69. 179. 185.\n",
      " 118. 171. 166. 144.  97. 168.  68.  49.  68. 245. 184. 202. 137.  85.\n",
      " 131. 283. 129.  59. 341.  87.  65. 102. 265. 276. 252.  90. 100.  55.\n",
      "  61.  92. 259.  53. 190. 142.  75. 142. 155. 225.  59. 104. 182. 128.\n",
      "  52.  37. 170. 170.  61. 144.  52. 128.  71. 163. 150.  97. 160. 178.\n",
      "  48. 270. 202. 111.  85.  42. 170. 200. 252. 113. 143.  51.  52. 210.\n",
      "  65. 141.  55. 134.  42. 111.  98. 164.  48.  96.  90. 162. 150. 279.\n",
      "  92.  83. 128. 102. 302. 198.  95.  53. 134. 144. 232.  81. 104.  59.\n",
      " 246. 297. 258. 229. 275. 281. 179. 200. 200. 173. 180.  84. 121. 161.\n",
      "  99. 109. 115. 268. 274. 158. 107.  83. 103. 272.  85. 280. 336. 281.\n",
      " 118. 317. 235.  60. 174. 259. 178. 128.  96. 126. 288.  88. 292.  71.\n",
      " 197. 186.  25.  84.  96. 195.  53. 217. 172. 131. 214.  59.  70. 220.\n",
      " 268. 152.  47.  74. 295. 101. 151. 127. 237. 225.  81. 151. 107.  64.\n",
      " 138. 185. 265. 101. 137. 143. 141.  79. 292. 178.  91. 116.  86. 122.\n",
      "  72. 129. 142.  90. 158.  39. 196. 222. 277.  99. 196. 202. 155.  77.\n",
      " 191.  70.  73.  49.  65. 263. 248. 296. 214. 185.  78.  93. 252. 150.\n",
      "  77. 208.  77. 108. 160.  53. 220. 154. 259.  90. 246. 124.  67.  72.\n",
      " 257. 262. 275. 177.  71.  47. 187. 125.  78.  51. 258. 215. 303. 243.\n",
      "  91. 150. 310. 153. 346.  63.  89.  50.  39. 103. 308. 116. 145.  74.\n",
      "  45. 115. 264.  87. 202. 127. 182. 241.  66.  94. 283.  64. 102. 200.\n",
      " 265.  94. 230. 181. 156. 233.  60. 219.  80.  68. 332. 248.  84. 200.\n",
      "  55.  85.  89.  31. 129.  83. 275.  65. 198. 236. 253. 124.  44. 172.\n",
      " 114. 142. 109. 180. 144. 163. 147.  97. 220. 190. 109. 191. 122. 230.\n",
      " 242. 248. 249. 192. 131. 237.  78. 135. 244. 199. 270. 164.  72.  96.\n",
      " 306.  91. 214.  95. 216. 263. 178. 113. 200. 139. 139.  88. 148.  88.\n",
      " 243.  71.  77. 109. 272.  60.  54. 221.  90. 311. 281. 182. 321.  58.\n",
      " 262. 206. 233. 242. 123. 167.  63. 197.  71. 168. 140. 217. 121. 235.\n",
      " 245.  40.  52. 104. 132.  88.  69. 219.  72. 201. 110.  51. 277.  63.\n",
      " 118.  69. 273. 258.  43. 198. 242. 232. 175.  93. 168. 275. 293. 281.\n",
      "  72. 140. 189. 181. 209. 136. 261. 113. 131. 174. 257.  55.  84.  42.\n",
      " 146. 212. 233.  91. 111. 152. 120.  67. 310.  94. 183.  66. 173.  72.\n",
      "  49.  64.  48. 178. 104. 132. 220.  57.]\n"
     ]
    }
   ],
   "source": [
    "\n",
    "# Load the diabetes dataset\n",
    "diabetes_X, diabetes_y = datasets.load_diabetes(return_X_y=True)\n",
    "\n",
    "print(diabetes_X)\n",
    "print(diabetes_y)"
   ]
  },
  {
   "cell_type": "code",
   "execution_count": null,
   "id": "ef7b2964",
   "metadata": {},
   "outputs": [],
   "source": [
    "\n",
    "# Use only one feature\n",
    "diabetes_X = diabetes_X[:, np.newaxis, 2]\n",
    "\n",
    "# Split the data into training/testing sets\n",
    "diabetes_X_train = diabetes_X[:-20]\n",
    "diabetes_X_test = diabetes_X[-20:]\n",
    "\n",
    "# Split the targets into training/testing sets\n",
    "diabetes_y_train = diabetes_y[:-20]\n",
    "diabetes_y_test = diabetes_y[-20:]\n",
    "\n",
    "# Create linear regression object\n",
    "regr = linear_model.LinearRegression()\n",
    "\n",
    "# Train the model using the training sets\n",
    "regr.fit(diabetes_X_train, diabetes_y_train)\n",
    "\n",
    "# Make predictions using the testing set\n",
    "diabetes_y_pred = regr.predict(diabetes_X_test)\n",
    "\n",
    "# The coefficients\n",
    "print(\"Coefficients: \\n\", regr.coef_)\n",
    "# The mean squared error\n",
    "print(\"Mean squared error: %.2f\" % mean_squared_error(diabetes_y_test, diabetes_y_pred))\n",
    "# The coefficient of determination: 1 is perfect prediction\n",
    "print(\"Coefficient of determination: %.2f\" % r2_score(diabetes_y_test, diabetes_y_pred))\n",
    "\n",
    "# Plot outputs\n",
    "plt.scatter(diabetes_X_test, diabetes_y_test, color=\"black\")\n",
    "plt.plot(diabetes_X_test, diabetes_y_pred, color=\"blue\", linewidth=3)\n",
    "\n",
    "plt.xticks(())\n",
    "plt.yticks(())\n",
    "\n",
    "plt.show()"
   ]
  },
  {
   "cell_type": "code",
   "execution_count": 8,
   "id": "6cdc2ce8",
   "metadata": {},
   "outputs": [
    {
     "name": "stdout",
     "output_type": "stream",
     "text": [
      "Coefficients: \n",
      " [938.23786125]\n",
      "Mean squared error: 2548.07\n",
      "Coefficient of determination: 0.47\n"
     ]
    },
    {
     "data": {
      "image/png": "[encoded data removed]",
      "text/plain": [
       "<Figure size 432x288 with 1 Axes>"
      ]
     },
     "metadata": {},
     "output_type": "display_data"
    }
   ],
   "source": [
    "import matplotlib.pyplot as plt\n",
    "import numpy as np\n",
    "from sklearn import datasets, linear_model\n",
    "from sklearn.metrics import mean_squared_error, r2_score\n",
    "\n",
    "# Load the diabetes dataset\n",
    "diabetes_X, diabetes_y = datasets.load_diabetes(return_X_y=True)\n",
    "\n",
    "# Use only one feature\n",
    "diabetes_X = diabetes_X[:, np.newaxis, 2]\n",
    "\n",
    "# Split the data into training/testing sets\n",
    "diabetes_X_train = diabetes_X[:-20]\n",
    "diabetes_X_test = diabetes_X[-20:]\n",
    "\n",
    "# Split the targets into training/testing sets\n",
    "diabetes_y_train = diabetes_y[:-20]\n",
    "diabetes_y_test = diabetes_y[-20:]\n",
    "\n",
    "# Create linear regression object\n",
    "regr = linear_model.LinearRegression()\n",
    "\n",
    "# Train the model using the training sets\n",
    "regr.fit(diabetes_X_train, diabetes_y_train)\n",
    "\n",
    "# Make predictions using the testing set\n",
    "diabetes_y_pred = regr.predict(diabetes_X_test)\n",
    "\n",
    "# The coefficients\n",
    "print(\"Coefficients: \\n\", regr.coef_)\n",
    "# The mean squared error\n",
    "print(\"Mean squared error: %.2f\" % mean_squared_error(diabetes_y_test, diabetes_y_pred))\n",
    "# The coefficient of determination: 1 is perfect prediction\n",
    "print(\"Coefficient of determination: %.2f\" % r2_score(diabetes_y_test, diabetes_y_pred))\n",
    "\n",
    "# Plot outputs\n",
    "plt.scatter(diabetes_X_test, diabetes_y_test, color=\"black\")\n",
    "plt.plot(diabetes_X_test, diabetes_y_pred, color=\"blue\", linewidth=3)\n",
    "\n",
    "plt.xticks(())\n",
    "plt.yticks(())\n",
    "\n",
    "plt.show()"
   ]
  }
 ],
 "metadata": {
  "kernelspec": {
   "display_name": "Python 3 (ipykernel)",
   "language": "python",
   "name": "python3"
  },
  "language_info": {
   "codemirror_mode": {
    "name": "ipython",
    "version": 3
   },
   "file_extension": ".py",
   "mimetype": "text/x-python",
   "name": "python",
   "nbconvert_exporter": "python",
   "pygments_lexer": "ipython3",
   "version": "3.9.6"
  }
 },
 "nbformat": 4,
 "nbformat_minor": 5
}
